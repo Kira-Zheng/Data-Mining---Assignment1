{
  "nbformat": 4,
  "nbformat_minor": 0,
  "metadata": {
    "colab": {
      "provenance": []
    },
    "kernelspec": {
      "name": "python3",
      "display_name": "Python 3"
    },
    "language_info": {
      "name": "python"
    }
  },
  "cells": [
    {
      "cell_type": "code",
      "execution_count": 2,
      "metadata": {
        "colab": {
          "base_uri": "https://localhost:8080/",
          "height": 148
        },
        "id": "u8s-STRWqolj",
        "outputId": "cf8b628f-191a-43c1-a39d-759849067129"
      },
      "outputs": [
        {
          "output_type": "display_data",
          "data": {
            "text/plain": [
              "<IPython.core.display.HTML object>"
            ],
            "text/html": [
              "\n",
              "     <input type=\"file\" id=\"files-51cae943-5cd2-4e4b-b513-1cba7fefeb8c\" name=\"files[]\" multiple disabled\n",
              "        style=\"border:none\" />\n",
              "     <output id=\"result-51cae943-5cd2-4e4b-b513-1cba7fefeb8c\">\n",
              "      Upload widget is only available when the cell has been executed in the\n",
              "      current browser session. Please rerun this cell to enable.\n",
              "      </output>\n",
              "      <script>// Copyright 2017 Google LLC\n",
              "//\n",
              "// Licensed under the Apache License, Version 2.0 (the \"License\");\n",
              "// you may not use this file except in compliance with the License.\n",
              "// You may obtain a copy of the License at\n",
              "//\n",
              "//      http://www.apache.org/licenses/LICENSE-2.0\n",
              "//\n",
              "// Unless required by applicable law or agreed to in writing, software\n",
              "// distributed under the License is distributed on an \"AS IS\" BASIS,\n",
              "// WITHOUT WARRANTIES OR CONDITIONS OF ANY KIND, either express or implied.\n",
              "// See the License for the specific language governing permissions and\n",
              "// limitations under the License.\n",
              "\n",
              "/**\n",
              " * @fileoverview Helpers for google.colab Python module.\n",
              " */\n",
              "(function(scope) {\n",
              "function span(text, styleAttributes = {}) {\n",
              "  const element = document.createElement('span');\n",
              "  element.textContent = text;\n",
              "  for (const key of Object.keys(styleAttributes)) {\n",
              "    element.style[key] = styleAttributes[key];\n",
              "  }\n",
              "  return element;\n",
              "}\n",
              "\n",
              "// Max number of bytes which will be uploaded at a time.\n",
              "const MAX_PAYLOAD_SIZE = 100 * 1024;\n",
              "\n",
              "function _uploadFiles(inputId, outputId) {\n",
              "  const steps = uploadFilesStep(inputId, outputId);\n",
              "  const outputElement = document.getElementById(outputId);\n",
              "  // Cache steps on the outputElement to make it available for the next call\n",
              "  // to uploadFilesContinue from Python.\n",
              "  outputElement.steps = steps;\n",
              "\n",
              "  return _uploadFilesContinue(outputId);\n",
              "}\n",
              "\n",
              "// This is roughly an async generator (not supported in the browser yet),\n",
              "// where there are multiple asynchronous steps and the Python side is going\n",
              "// to poll for completion of each step.\n",
              "// This uses a Promise to block the python side on completion of each step,\n",
              "// then passes the result of the previous step as the input to the next step.\n",
              "function _uploadFilesContinue(outputId) {\n",
              "  const outputElement = document.getElementById(outputId);\n",
              "  const steps = outputElement.steps;\n",
              "\n",
              "  const next = steps.next(outputElement.lastPromiseValue);\n",
              "  return Promise.resolve(next.value.promise).then((value) => {\n",
              "    // Cache the last promise value to make it available to the next\n",
              "    // step of the generator.\n",
              "    outputElement.lastPromiseValue = value;\n",
              "    return next.value.response;\n",
              "  });\n",
              "}\n",
              "\n",
              "/**\n",
              " * Generator function which is called between each async step of the upload\n",
              " * process.\n",
              " * @param {string} inputId Element ID of the input file picker element.\n",
              " * @param {string} outputId Element ID of the output display.\n",
              " * @return {!Iterable<!Object>} Iterable of next steps.\n",
              " */\n",
              "function* uploadFilesStep(inputId, outputId) {\n",
              "  const inputElement = document.getElementById(inputId);\n",
              "  inputElement.disabled = false;\n",
              "\n",
              "  const outputElement = document.getElementById(outputId);\n",
              "  outputElement.innerHTML = '';\n",
              "\n",
              "  const pickedPromise = new Promise((resolve) => {\n",
              "    inputElement.addEventListener('change', (e) => {\n",
              "      resolve(e.target.files);\n",
              "    });\n",
              "  });\n",
              "\n",
              "  const cancel = document.createElement('button');\n",
              "  inputElement.parentElement.appendChild(cancel);\n",
              "  cancel.textContent = 'Cancel upload';\n",
              "  const cancelPromise = new Promise((resolve) => {\n",
              "    cancel.onclick = () => {\n",
              "      resolve(null);\n",
              "    };\n",
              "  });\n",
              "\n",
              "  // Wait for the user to pick the files.\n",
              "  const files = yield {\n",
              "    promise: Promise.race([pickedPromise, cancelPromise]),\n",
              "    response: {\n",
              "      action: 'starting',\n",
              "    }\n",
              "  };\n",
              "\n",
              "  cancel.remove();\n",
              "\n",
              "  // Disable the input element since further picks are not allowed.\n",
              "  inputElement.disabled = true;\n",
              "\n",
              "  if (!files) {\n",
              "    return {\n",
              "      response: {\n",
              "        action: 'complete',\n",
              "      }\n",
              "    };\n",
              "  }\n",
              "\n",
              "  for (const file of files) {\n",
              "    const li = document.createElement('li');\n",
              "    li.append(span(file.name, {fontWeight: 'bold'}));\n",
              "    li.append(span(\n",
              "        `(${file.type || 'n/a'}) - ${file.size} bytes, ` +\n",
              "        `last modified: ${\n",
              "            file.lastModifiedDate ? file.lastModifiedDate.toLocaleDateString() :\n",
              "                                    'n/a'} - `));\n",
              "    const percent = span('0% done');\n",
              "    li.appendChild(percent);\n",
              "\n",
              "    outputElement.appendChild(li);\n",
              "\n",
              "    const fileDataPromise = new Promise((resolve) => {\n",
              "      const reader = new FileReader();\n",
              "      reader.onload = (e) => {\n",
              "        resolve(e.target.result);\n",
              "      };\n",
              "      reader.readAsArrayBuffer(file);\n",
              "    });\n",
              "    // Wait for the data to be ready.\n",
              "    let fileData = yield {\n",
              "      promise: fileDataPromise,\n",
              "      response: {\n",
              "        action: 'continue',\n",
              "      }\n",
              "    };\n",
              "\n",
              "    // Use a chunked sending to avoid message size limits. See b/62115660.\n",
              "    let position = 0;\n",
              "    do {\n",
              "      const length = Math.min(fileData.byteLength - position, MAX_PAYLOAD_SIZE);\n",
              "      const chunk = new Uint8Array(fileData, position, length);\n",
              "      position += length;\n",
              "\n",
              "      const base64 = btoa(String.fromCharCode.apply(null, chunk));\n",
              "      yield {\n",
              "        response: {\n",
              "          action: 'append',\n",
              "          file: file.name,\n",
              "          data: base64,\n",
              "        },\n",
              "      };\n",
              "\n",
              "      let percentDone = fileData.byteLength === 0 ?\n",
              "          100 :\n",
              "          Math.round((position / fileData.byteLength) * 100);\n",
              "      percent.textContent = `${percentDone}% done`;\n",
              "\n",
              "    } while (position < fileData.byteLength);\n",
              "  }\n",
              "\n",
              "  // All done.\n",
              "  yield {\n",
              "    response: {\n",
              "      action: 'complete',\n",
              "    }\n",
              "  };\n",
              "}\n",
              "\n",
              "scope.google = scope.google || {};\n",
              "scope.google.colab = scope.google.colab || {};\n",
              "scope.google.colab._files = {\n",
              "  _uploadFiles,\n",
              "  _uploadFilesContinue,\n",
              "};\n",
              "})(self);\n",
              "</script> "
            ]
          },
          "metadata": {}
        },
        {
          "output_type": "stream",
          "name": "stdout",
          "text": [
            "Saving adult.data to adult.data\n",
            "Saving adult.names to adult.names\n",
            "Saving adult.test to adult.test\n"
          ]
        }
      ],
      "source": [
        "from google.colab import files\n",
        "uploaded = files.upload()"
      ]
    },
    {
      "cell_type": "code",
      "source": [
        "import pandas as pd\n",
        "import numpy as np\n",
        "from sklearn.model_selection import train_test_split, GridSearchCV\n",
        "from sklearn.preprocessing import OneHotEncoder, StandardScaler\n",
        "from sklearn.compose import ColumnTransformer\n",
        "from sklearn.pipeline import Pipeline\n",
        "from sklearn.linear_model import LogisticRegression\n",
        "from sklearn.ensemble import RandomForestClassifier\n",
        "from sklearn.metrics import accuracy_score, precision_score, recall_score, f1_score, roc_auc_score, roc_curve\n",
        "import time\n",
        "import matplotlib.pyplot as plt\n",
        "columns = [\"age\", \"workclass\", \"fnlwgt\", \"education\", \"education-num\", \"marital-status\",\n",
        "           \"occupation\", \"relationship\", \"race\", \"sex\", \"capital-gain\", \"capital-loss\",\n",
        "           \"hours-per-week\", \"native-country\", \"income\"]\n",
        "train_df = pd.read_csv(\"adult.data\", header=None, names=columns, na_values=\"?\", skipinitialspace=True)\n",
        "test_df = pd.read_csv(\"adult.test\", header=None, names=columns, na_values=\"?\", skipinitialspace=True)\n",
        "# Handle redundant full stops in test set target variables (e.g., \"<=50K.\" changed to \"<=50K\")\n",
        "test_df[\"income\"] = test_df[\"income\"].str.replace(\".\", \"\", regex=False)\n"
      ],
      "metadata": {
        "id": "NPANwU3JsGPt"
      },
      "execution_count": 3,
      "outputs": []
    },
    {
      "cell_type": "code",
      "source": [
        "print(\"The first 5 rows of the training set:\")\n",
        "print(train_df.head())"
      ],
      "metadata": {
        "colab": {
          "base_uri": "https://localhost:8080/"
        },
        "id": "w9KtfmDQsh-w",
        "outputId": "bd3b879b-34f2-4d12-a422-a254d528250c"
      },
      "execution_count": 4,
      "outputs": [
        {
          "output_type": "stream",
          "name": "stdout",
          "text": [
            "The first 5 rows of the training set:\n",
            "   age         workclass  fnlwgt  education  education-num  \\\n",
            "0   39         State-gov   77516  Bachelors             13   \n",
            "1   50  Self-emp-not-inc   83311  Bachelors             13   \n",
            "2   38           Private  215646    HS-grad              9   \n",
            "3   53           Private  234721       11th              7   \n",
            "4   28           Private  338409  Bachelors             13   \n",
            "\n",
            "       marital-status         occupation   relationship   race     sex  \\\n",
            "0       Never-married       Adm-clerical  Not-in-family  White    Male   \n",
            "1  Married-civ-spouse    Exec-managerial        Husband  White    Male   \n",
            "2            Divorced  Handlers-cleaners  Not-in-family  White    Male   \n",
            "3  Married-civ-spouse  Handlers-cleaners        Husband  Black    Male   \n",
            "4  Married-civ-spouse     Prof-specialty           Wife  Black  Female   \n",
            "\n",
            "   capital-gain  capital-loss  hours-per-week native-country income  \n",
            "0          2174             0              40  United-States  <=50K  \n",
            "1             0             0              13  United-States  <=50K  \n",
            "2             0             0              40  United-States  <=50K  \n",
            "3             0             0              40  United-States  <=50K  \n",
            "4             0             0              40           Cuba  <=50K  \n"
          ]
        }
      ]
    },
    {
      "cell_type": "code",
      "source": [
        "missing_cols = [\"workclass\", \"occupation\", \"native-country\"]\n",
        "for col in missing_cols:\n",
        "    mode = train_df[col].mode()[0]\n",
        "    train_df[col] = train_df[col].fillna(mode)\n",
        "    test_df[col] = test_df[col].fillna(mode)"
      ],
      "metadata": {
        "id": "lnYY5jRGs_ph"
      },
      "execution_count": 5,
      "outputs": []
    },
    {
      "cell_type": "code",
      "source": [
        "# Separate features (x) and target variable (y), convert target variable to 0/1 (<=50K=0, >50K=1)\n",
        "X_train = train_df.drop(\"income\", axis=1)\n",
        "y_train = (train_df[\"income\"] == \">50K\").astype(int)\n",
        "X_test = test_df.drop(\"income\", axis=1)\n",
        "y_test = (test_df[\"income\"] == \">50K\").astype(int)\n",
        "\n",
        "# Defining feature types\n",
        "numeric_features = [\"age\", \"fnlwgt\", \"education-num\", \"capital-gain\", \"capital-loss\", \"hours-per-week\"]\n",
        "categorical_features = [col for col in X_train.columns if col not in numeric_features]\n",
        "\n",
        "# Build preprocessing pipeline (avoid data leakage: fit preprocessing model with training set only)\n",
        "preprocessor = ColumnTransformer(\n",
        "    transformers=[\n",
        "        (\"num\", StandardScaler(), numeric_features),  # Numerical feature standardisation\n",
        "        (\"cat\", OneHotEncoder(drop=\"first\", sparse_output=False), categorical_features)  # Category features uniquely hot coded (drop=\"first\" to avoid multicollinearity)\n",
        "    ])"
      ],
      "metadata": {
        "id": "oe5CP1UFzCYH"
      },
      "execution_count": 7,
      "outputs": []
    },
    {
      "cell_type": "code",
      "source": [
        "# 1. Logistic regression pipeline (preprocessing + models) and hyperparameter tuning\n",
        "lr_pipeline = Pipeline([\n",
        "    (\"preprocessor\", preprocessor),\n",
        "    (\"classifier\", LogisticRegression(random_state=42, max_iter=1000))  # max_iter=1000 to ensure convergence\n",
        "])\n",
        "\n",
        "lr_param_grid = {\n",
        "    \"classifier__C\": [0.1, 1, 10],  # Regularisation strength candidates\n",
        "    \"classifier__solver\": [\"liblinear\", \"saga\"]  # Optimiser Candidates\n",
        "}\n",
        "\n",
        "# Grid search (5 fold cross validation, f1_score for assessment metrics, due to slight imbalance in data)\n",
        "lr_grid_search = GridSearchCV(lr_pipeline, lr_param_grid, cv=5, scoring=\"f1\", n_jobs=-1)\n",
        "lr_grid_search.fit(X_train, y_train)\n",
        "best_lr = lr_grid_search.best_estimator_  # logistic regression model\n",
        "print(\"Logistic regression optimal hyperparameters：\", lr_grid_search.best_params_)  # 例：{'classifier__C': 1, 'classifier__solver': 'liblinear'}\n",
        "\n",
        "# 2. Random Forest Pipelines and Hyperparameter Tuning\n",
        "rf_pipeline = Pipeline([\n",
        "    (\"preprocessor\", preprocessor),\n",
        "    (\"classifier\", RandomForestClassifier(random_state=42))\n",
        "])\n",
        "\n",
        "rf_param_grid = {\n",
        "    \"classifier__n_estimators\": [100, 200],  # Number of Tree Candidates\n",
        "    \"classifier__max_depth\": [None, 10, 20]  # Tree Depth Candidate (None means no limit)\n",
        "}\n",
        "\n",
        "rf_grid_search = GridSearchCV(rf_pipeline, rf_param_grid, cv=5, scoring=\"f1\", n_jobs=-1)\n",
        "rf_grid_search.fit(X_train, y_train)\n",
        "best_rf = rf_grid_search.best_estimator_  # Optimal Random Forest Model\n",
        "print(\"Random Forest Optimal Hyperparameters：\", rf_grid_search.best_params_)  # 例：{'classifier__max_depth': 20, 'classifier__n_estimators': 200}\n",
        "# Remove the first row from test_df and X_test\n",
        "test_df = test_df.iloc[1:].copy()\n",
        "X_test = X_test.iloc[1:].copy()\n",
        "y_test = y_test.iloc[1:].copy()\n",
        "\n",
        "\n",
        "# 1. Logistic regression time statistics\n",
        "start_time = time.time()\n",
        "# best_lr.fit(X_train, y_train)  # No need to refit, already fitted during GridSearchCV\n",
        "lr_train_time = time.time() - start_time # Placeholder, training time is from GridSearchCV\n",
        "\n",
        "start_time = time.time()\n",
        "y_lr_pred = best_lr.predict(X_test)  # anticipate\n",
        "y_lr_prob = best_lr.predict_proba(X_test)[:, 1]  # Predicting positive class probabilities (for ROC curves)\n",
        "lr_pred_time = time.time() - start_time\n",
        "\n",
        "# 2. Random Forest Time Statistics\n",
        "start_time = time.time()\n",
        "# best_rf.fit(X_train, y_train) # No need to refit, already fitted during GridSearchCV\n",
        "rf_train_time = time.time() - start_time # Placeholder, training time is from GridSearchCV\n",
        "\n",
        "start_time = time.time()\n",
        "y_rf_pred = best_rf.predict(X_test)\n",
        "y_rf_prob = best_rf.predict_proba(X_test)[:, 1]\n",
        "rf_pred_time = time.time() - start_time\n",
        "\n",
        "# Update training times from GridSearchCV results\n",
        "lr_train_time = lr_grid_search.cv_results_['mean_fit_time'][lr_grid_search.best_index_]\n",
        "rf_train_time = rf_grid_search.cv_results_['mean_fit_time'][rf_grid_search.best_index_]\n",
        "\n",
        "\n",
        "# Print time results (in seconds)\n",
        "print(f\"Logistic Regression - Training Time：{lr_train_time:.2f}s，forecast time：{lr_pred_time:.2f}s\")\n",
        "print(f\"Random Forest - Training Time：{rf_train_time:.2f}s，forecast time：{rf_pred_time:.2f}s\")"
      ],
      "metadata": {
        "colab": {
          "base_uri": "https://localhost:8080/"
        },
        "id": "WIHviYqXzI7g",
        "outputId": "930b7f56-c9a6-4e47-b85e-6d8f1a61be09"
      },
      "execution_count": 8,
      "outputs": [
        {
          "output_type": "stream",
          "name": "stderr",
          "text": [
            "/usr/local/lib/python3.12/dist-packages/sklearn/model_selection/_search.py:1108: UserWarning: One or more of the test scores are non-finite: [nan nan nan nan nan nan]\n",
            "  warnings.warn(\n"
          ]
        },
        {
          "output_type": "stream",
          "name": "stdout",
          "text": [
            "Logistic regression optimal hyperparameters： {'classifier__C': 0.1, 'classifier__solver': 'liblinear'}\n"
          ]
        },
        {
          "output_type": "stream",
          "name": "stderr",
          "text": [
            "/usr/local/lib/python3.12/dist-packages/sklearn/model_selection/_search.py:1108: UserWarning: One or more of the test scores are non-finite: [nan nan nan nan nan nan]\n",
            "  warnings.warn(\n"
          ]
        },
        {
          "output_type": "stream",
          "name": "stdout",
          "text": [
            "Random Forest Optimal Hyperparameters： {'classifier__max_depth': None, 'classifier__n_estimators': 100}\n",
            "Logistic Regression - Training Time：0.40s，forecast time：0.18s\n",
            "Random Forest - Training Time：7.53s，forecast time：0.94s\n"
          ]
        }
      ]
    },
    {
      "cell_type": "code",
      "source": [
        "# Define functions to calculate indicators\n",
        "def calculate_metrics(y_true, y_pred, y_prob):\n",
        "    return {\n",
        "        \"Accuracy\": accuracy_score(y_true, y_pred),\n",
        "        \"Precision\": precision_score(y_true, y_pred),\n",
        "        \"Recall\": recall_score(y_true, y_pred),\n",
        "        \"F1-Score\": f1_score(y_true, y_pred),\n",
        "        \"ROC-AUC\": roc_auc_score(y_true, y_prob)\n",
        "    }\n",
        "\n",
        "# Calculation of indicators for both models\n",
        "lr_metrics = calculate_metrics(y_test, y_lr_pred, y_lr_prob)\n",
        "rf_metrics = calculate_metrics(y_test, y_rf_pred, y_rf_prob)\n",
        "\n",
        "# Organised into DataFrames for easy comparison\n",
        "metrics_df = pd.DataFrame({\n",
        "    \"Logistic Regression\": lr_metrics,\n",
        "    \"Random Forest\": rf_metrics\n",
        "})\n",
        "print(\"\\nComparison of model performance metrics:\")\n",
        "print(metrics_df.round(4))"
      ],
      "metadata": {
        "colab": {
          "base_uri": "https://localhost:8080/"
        },
        "id": "q-Q1ViiW6R3a",
        "outputId": "78b8418d-ecfb-4e77-c2c0-5a39937cfdf6"
      },
      "execution_count": 9,
      "outputs": [
        {
          "output_type": "stream",
          "name": "stdout",
          "text": [
            "\n",
            "Comparison of model performance metrics:\n",
            "           Logistic Regression  Random Forest\n",
            "Accuracy                0.8520         0.8511\n",
            "Precision               0.7343         0.7188\n",
            "Recall                  0.5855         0.6074\n",
            "F1-Score                0.6515         0.6584\n",
            "ROC-AUC                 0.9042         0.8996\n"
          ]
        }
      ]
    },
    {
      "cell_type": "code",
      "source": [
        "# Calculation of False Positive Rate (FPR) and True Positive Rate (TPR) for ROC curve\n",
        "lr_fpr, lr_tpr, _ = roc_curve(y_test, y_lr_prob)\n",
        "rf_fpr, rf_tpr, _ = roc_curve(y_test, y_rf_prob)\n",
        "\n",
        "# Plotting the ROC curve\n",
        "plt.figure(figsize=(8, 6))\n",
        "plt.plot(lr_fpr, lr_tpr, label=f\"Logistic Regression (AUC={lr_metrics['ROC-AUC']:.4f})\", color=\"blue\")\n",
        "plt.plot(rf_fpr, rf_tpr, label=f\"Random Forest (AUC={rf_metrics['ROC-AUC']:.4f})\", color=\"red\")\n",
        "plt.plot([0, 1], [0, 1], \"k--\", label=\"Random Guess\")  # Random Guess Baseline\n",
        "plt.xlabel(\"False Positive Rate (FPR)\")\n",
        "plt.ylabel(\"True Positive Rate (TPR)\")\n",
        "plt.title(\"ROC Curves of Two Classifiers\")\n",
        "plt.legend()\n",
        "plt.savefig(\"roc_curves.png\", dpi=300, bbox_inches=\"tight\")"
      ],
      "metadata": {
        "colab": {
          "base_uri": "https://localhost:8080/",
          "height": 564
        },
        "id": "dx3n1Qv76X-j",
        "outputId": "ef274e29-a308-4e7d-feb0-310ffd2d2fd3"
      },
      "execution_count": 10,
      "outputs": [
        {
          "output_type": "display_data",
          "data": {
            "text/plain": [
              "<Figure size 800x600 with 1 Axes>"
            ],
            "image/png": "[encoded data removed]"
          },
          "metadata": {}
        }
      ]
    },
    {
      "cell_type": "code",
      "source": [
        "# View the distribution of the target variable\n",
        "print(\"Percentage of positive classes in the training set:\", y_train.mean())\n",
        "print(\"Test set positive class share:\", y_test.mean())"
      ],
      "metadata": {
        "colab": {
          "base_uri": "https://localhost:8080/"
        },
        "id": "ZdD44F2D8Xxa",
        "outputId": "6ae52a0c-1b40-4603-8b71-074c6d92252b"
      },
      "execution_count": 11,
      "outputs": [
        {
          "output_type": "stream",
          "name": "stdout",
          "text": [
            "Percentage of positive classes in the training set: 0.2408095574460244\n",
            "Test set positive class share: 0.23622627602727106\n"
          ]
        }
      ]
    }
  ]
}